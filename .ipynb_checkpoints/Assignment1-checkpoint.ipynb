{
 "cells": [
  {
   "cell_type": "markdown",
   "id": "af05205e-1198-4627-b854-2ba738299757",
   "metadata": {},
   "source": [
    "| Name (Last, First) | Student ID | Section contributed | Section edited | Other contribution |\r\n",
    "|:----------------:- |:--------:- |:-----------------:-  :------------: |:-----------------: ||\r\n",
    "Natanael, Edward   d 301402826a n GitHub setup/syncing3 a              | b                  |\n",
    "| Supangat, Jonathan | a          | b                   | c              | d                  | |"
   ]
  },
  {
   "cell_type": "markdown",
   "id": "a234914e-52ff-4d6f-a25c-bd733be178f5",
   "metadata": {},
   "source": [
    "External sources file URL:\n",
    "* Ghostbuster : https://www.scifiscripts.com/scripts/Ghostbusters.txt\n",
    "* Middlemarch : cleaned metadata from lab 4\n",
    "* Newspaper (EV Cars): https://www.cnn.com/interactive/2019/08/business/electric-cars-audi-volkswagen-tesla/, https://www.cnn.com/2019/08/01/cars/future-of-electric-car-charging/index.html, https://www.cnn.com/2019/08/07/business/ford-ceo-hackett-elon-musk-table-interview/index.html"
   ]
  },
  {
   "cell_type": "markdown",
   "id": "6316d5c1-34bb-44af-813a-19072378b873",
   "metadata": {},
   "source": [
    "**Importing Libraries**"
   ]
  },
  {
   "cell_type": "code",
   "execution_count": 18,
   "id": "f4c8379c-dc3f-4b50-b1ce-3be1a64aac06",
   "metadata": {},
   "outputs": [],
   "source": [
    "import nltk\n",
    "from nltk.corpus import names\n",
    "# import the NLTK packages we know we need\n",
    "from nltk.tokenize import word_tokenize\n",
    "from nltk.stem import PorterStemmer\n",
    "from nltk.stem import WordNetLemmatizer\n",
    "\n",
    "import random\n",
    "import numpy as np\n",
    "import os\n",
    "import pandas as pd"
   ]
  },
  {
   "cell_type": "code",
   "execution_count": null,
   "id": "7d2af5ec-f477-4ac0-8743-0a4b7b24258b",
   "metadata": {},
   "outputs": [],
   "source": [
    "# import spaCy and the small English language model\n",
    "import spacy\n",
    "nlp = spacy.load(\"en_core_web_sm\")\n",
    "\n",
    "# this does prettier displays on spaCy\n",
    "from spacy import displacy"
   ]
  },
  {
   "cell_type": "markdown",
   "id": "c3ff444b-fd41-4e97-9ddf-46af82247eb4",
   "metadata": {},
   "source": [
    "**Defining Functions**"
   ]
  },
  {
   "cell_type": "code",
   "execution_count": null,
   "id": "7945f317-30b3-4765-8a57-27b99a120004",
   "metadata": {},
   "outputs": [],
   "source": []
  },
  {
   "cell_type": "markdown",
   "id": "27f48478-e3e5-4632-8888-b3fe61e5b592",
   "metadata": {},
   "source": [
    "**Reading Files**"
   ]
  },
  {
   "cell_type": "code",
   "execution_count": null,
   "id": "d63f3da1-04c6-47e6-b6bc-e61768559c36",
   "metadata": {},
   "outputs": [],
   "source": []
  },
  {
   "cell_type": "markdown",
   "id": "30d6ac49-12c8-49ad-a8b3-e58c7129b061",
   "metadata": {},
   "source": [
    "**Analyzing Contents**"
   ]
  },
  {
   "cell_type": "code",
   "execution_count": null,
   "id": "1c690d8c-2265-419d-9d4d-12cc59e8b8aa",
   "metadata": {},
   "outputs": [],
   "source": []
  },
  {
   "cell_type": "code",
   "execution_count": null,
   "id": "319e2846-726d-4af1-9af9-73b2c3b4db32",
   "metadata": {},
   "outputs": [],
   "source": []
  },
  {
   "cell_type": "code",
   "execution_count": null,
   "id": "80ef654a-9a5d-44a6-9165-d1caad007ac6",
   "metadata": {},
   "outputs": [],
   "source": []
  }
 ],
 "metadata": {
  "kernelspec": {
   "display_name": "Python 3 (ipykernel)",
   "language": "python",
   "name": "python3"
  },
  "language_info": {
   "codemirror_mode": {
    "name": "ipython",
    "version": 3
   },
   "file_extension": ".py",
   "mimetype": "text/x-python",
   "name": "python",
   "nbconvert_exporter": "python",
   "pygments_lexer": "ipython3",
   "version": "3.12.4"
  }
 },
 "nbformat": 4,
 "nbformat_minor": 5
}
